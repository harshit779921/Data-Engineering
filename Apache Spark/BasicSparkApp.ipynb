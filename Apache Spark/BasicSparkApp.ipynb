{
 "cells": [
  {
   "cell_type": "code",
   "execution_count": 68,
   "metadata": {},
   "outputs": [],
   "source": [
    "from pyspark.sql import SparkSession\n",
    "from pyspark.sql.types import StructType, StructField, IntegerType, StringType\n",
    "import pyspark.sql.functions as func "
   ]
  },
  {
   "cell_type": "code",
   "execution_count": 69,
   "metadata": {},
   "outputs": [],
   "source": [
    "spark = SparkSession.builder.appName(\"FirstApp\").getOrCreate()"
   ]
  },
  {
   "cell_type": "code",
   "execution_count": 70,
   "metadata": {},
   "outputs": [],
   "source": [
    "myschema = StructType([\\\n",
    "                        StructField(\"userID\", IntegerType(), True),\n",
    "                        StructField(\"name\", StringType(), True),\n",
    "                        StructField(\"age\", IntegerType(), True),\n",
    "                        StructField(\"friends\", IntegerType(), True),\n",
    "                        ])"
   ]
  },
  {
   "cell_type": "code",
   "execution_count": 71,
   "metadata": {},
   "outputs": [],
   "source": [
    "#Creating DataFrame on a CSV file\n",
    "people = spark.read.format(\"csv\")\\\n",
    "    .schema(myschema)\\\n",
    "    .option(\"path\", \"fakefriends.csv\")\\\n",
    "    .load()"
   ]
  },
  {
   "cell_type": "code",
   "execution_count": 72,
   "metadata": {},
   "outputs": [
    {
     "name": "stdout",
     "output_type": "stream",
     "text": [
      "root\n",
      " |-- userID: integer (nullable = true)\n",
      " |-- name: string (nullable = true)\n",
      " |-- age: integer (nullable = true)\n",
      " |-- friends: integer (nullable = true)\n",
      "\n"
     ]
    }
   ],
   "source": [
    "people.printSchema()"
   ]
  },
  {
   "cell_type": "code",
   "execution_count": 73,
   "metadata": {},
   "outputs": [],
   "source": [
    "\n",
    "#Performing all thetransformations\n",
    "output = people.select(people.userID,people.name\\\n",
    "                       ,people.age,people.friends)\\\n",
    "         .where(people.age < 30).withColumn('insert_ts', func.current_timestamp())\\\n",
    "         .orderBy(people.userID)"
   ]
  },
  {
   "cell_type": "code",
   "execution_count": 74,
   "metadata": {},
   "outputs": [
    {
     "data": {
      "text/plain": [
       "112"
      ]
     },
     "execution_count": 74,
     "metadata": {},
     "output_type": "execute_result"
    }
   ],
   "source": [
    "\n",
    "#taking the count of o/p DataFrame\n",
    "output.count()"
   ]
  },
  {
   "cell_type": "code",
   "execution_count": 75,
   "metadata": {},
   "outputs": [],
   "source": [
    "#Creating a Temp View\n",
    "output.createOrReplaceTempView(\"peoples\")"
   ]
  },
  {
   "cell_type": "code",
   "execution_count": 76,
   "metadata": {},
   "outputs": [
    {
     "name": "stdout",
     "output_type": "stream",
     "text": [
      "+------+--------+\n",
      "|userID|    name|\n",
      "+------+--------+\n",
      "|     1|Jean-Luc|\n",
      "|     9|    Hugh|\n",
      "|    16|  Weyoun|\n",
      "|    21|   Miles|\n",
      "|    24|  Julian|\n",
      "|    25|     Ben|\n",
      "|    26|  Julian|\n",
      "|    32|     Nog|\n",
      "|    35| Beverly|\n",
      "|    46|    Morn|\n",
      "|    47|   Brunt|\n",
      "|    48|     Nog|\n",
      "|    52| Beverly|\n",
      "|    54|   Brunt|\n",
      "|    60|  Geordi|\n",
      "|    66|  Geordi|\n",
      "|    72|  Kasidy|\n",
      "|    73|   Brunt|\n",
      "|    84|     Ben|\n",
      "|    89|    Worf|\n",
      "+------+--------+\n",
      "only showing top 20 rows\n",
      "\n"
     ]
    }
   ],
   "source": [
    "#Running a simple Spark SQL query\n",
    "spark.sql(\"select userID, name from peoples\").show()"
   ]
  }
 ],
 "metadata": {
  "kernelspec": {
   "display_name": "Python 3",
   "language": "python",
   "name": "python3"
  },
  "language_info": {
   "codemirror_mode": {
    "name": "ipython",
    "version": 3
   },
   "file_extension": ".py",
   "mimetype": "text/x-python",
   "name": "python",
   "nbconvert_exporter": "python",
   "pygments_lexer": "ipython3",
   "version": "3.11.2"
  }
 },
 "nbformat": 4,
 "nbformat_minor": 2
}
