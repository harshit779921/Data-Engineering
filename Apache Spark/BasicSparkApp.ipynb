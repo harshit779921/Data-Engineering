{
 "cells": [
  {
   "cell_type": "code",
   "execution_count": 1,
   "metadata": {},
   "outputs": [],
   "source": [
    "from pyspark.sql import SparkSession\n",
    "from pyspark.sql.types import StructType, StructField, IntegerType, StringType\n",
    "import pyspark.sql.functions as func "
   ]
  },
  {
   "cell_type": "code",
   "execution_count": 2,
   "metadata": {},
   "outputs": [],
   "source": [
    "spark = SparkSession.builder.appName(\"FirtsApp\").getOrCreate()"
   ]
  },
  {
   "cell_type": "code",
   "execution_count": 3,
   "metadata": {},
   "outputs": [],
   "source": [
    "myschema = StructType([\\\n",
    "                        StructField(\"userID\", IntegerType(), True),\n",
    "                        StructField(\"name\", StringType(), True),\n",
    "                        StructField(\"age\", IntegerType(), True),\n",
    "                        StructField(\"friends\", IntegerType(), True),\n",
    "                        ])"
   ]
  },
  {
   "cell_type": "code",
   "execution_count": 4,
   "metadata": {},
   "outputs": [],
   "source": [
    "#Creating DataFrame on a CSV file\n",
    "people = spark.read.format(\"csv\")\\\n",
    "    .schema(myschema)\\\n",
    "    .option(\"path\", \"fakefriends.csv\")\\\n",
    "    .load()"
   ]
  },
  {
   "cell_type": "code",
   "execution_count": 5,
   "metadata": {},
   "outputs": [],
   "source": [
    "\n",
    "#Performing all thetransformations\n",
    "output = people.select(people.userID,people.name\\\n",
    "                       ,people.age,people.friends)\\\n",
    "         .where(people.age < 30).withColumn('insert_ts', func.current_timestamp())\\\n",
    "         .orderBy(people.userID)"
   ]
  },
  {
   "cell_type": "code",
   "execution_count": 6,
   "metadata": {},
   "outputs": [
    {
     "data": {
      "text/plain": [
       "112"
      ]
     },
     "execution_count": 6,
     "metadata": {},
     "output_type": "execute_result"
    }
   ],
   "source": [
    "\n",
    "#taking the count of o/p DataFrame\n",
    "output.count()"
   ]
  },
  {
   "cell_type": "code",
   "execution_count": 7,
   "metadata": {},
   "outputs": [],
   "source": [
    "#Creating a Temp View\n",
    "output.createOrReplaceTempView(\"peoples\")"
   ]
  },
  {
   "cell_type": "code",
   "execution_count": 8,
   "metadata": {},
   "outputs": [
    {
     "name": "stdout",
     "output_type": "stream",
     "text": [
      "+--------+---+-------+--------------------+\n",
      "|    name|age|friends|           insert_ts|\n",
      "+--------+---+-------+--------------------+\n",
      "|Jean-Luc| 26|      2|2024-08-20 16:32:...|\n",
      "|    Hugh| 27|    181|2024-08-20 16:32:...|\n",
      "|  Weyoun| 22|    323|2024-08-20 16:32:...|\n",
      "|   Miles| 19|    268|2024-08-20 16:32:...|\n",
      "|  Julian| 25|      1|2024-08-20 16:32:...|\n",
      "|     Ben| 21|    445|2024-08-20 16:32:...|\n",
      "|  Julian| 22|    100|2024-08-20 16:32:...|\n",
      "|     Nog| 26|    281|2024-08-20 16:32:...|\n",
      "| Beverly| 27|    305|2024-08-20 16:32:...|\n",
      "|    Morn| 25|     96|2024-08-20 16:32:...|\n",
      "|   Brunt| 24|     49|2024-08-20 16:32:...|\n",
      "|     Nog| 20|      1|2024-08-20 16:32:...|\n",
      "| Beverly| 19|    269|2024-08-20 16:32:...|\n",
      "|   Brunt| 19|      5|2024-08-20 16:32:...|\n",
      "|  Geordi| 20|    100|2024-08-20 16:32:...|\n",
      "|  Geordi| 21|    477|2024-08-20 16:32:...|\n",
      "|  Kasidy| 22|    179|2024-08-20 16:32:...|\n",
      "|   Brunt| 20|    384|2024-08-20 16:32:...|\n",
      "|     Ben| 28|    311|2024-08-20 16:32:...|\n",
      "|    Worf| 24|    492|2024-08-20 16:32:...|\n",
      "+--------+---+-------+--------------------+\n",
      "only showing top 20 rows\n",
      "\n"
     ]
    }
   ],
   "source": [
    "\n",
    "#Running a simple Spark SQL query\n",
    "spark.sql(\"select name,age,friends,insert_ts from peoples\").show()"
   ]
  }
 ],
 "metadata": {
  "kernelspec": {
   "display_name": "Python 3",
   "language": "python",
   "name": "python3"
  },
  "language_info": {
   "codemirror_mode": {
    "name": "ipython",
    "version": 3
   },
   "file_extension": ".py",
   "mimetype": "text/x-python",
   "name": "python",
   "nbconvert_exporter": "python",
   "pygments_lexer": "ipython3",
   "version": "3.11.2"
  }
 },
 "nbformat": 4,
 "nbformat_minor": 2
}
